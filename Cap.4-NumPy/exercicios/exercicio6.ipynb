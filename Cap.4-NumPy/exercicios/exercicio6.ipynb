{
 "cells": [
  {
   "cell_type": "markdown",
   "metadata": {},
   "source": [
    "### Exercicios do Cap. 4, Pt. 3"
   ]
  },
  {
   "cell_type": "code",
   "execution_count": 13,
   "metadata": {},
   "outputs": [
    {
     "name": "stdout",
     "output_type": "stream",
     "text": [
      "['\\ufeffNum' 'Company Name' 'Location' 'Datum' 'Detail' 'Status Rocket'\n",
      " ' Cost' 'Status Mission']\n"
     ]
    }
   ],
   "source": [
    "# Importando o NumPy e abrindo o dataset\n",
    "import numpy as np\n",
    "\n",
    "dataset = np.loadtxt(\n",
    "  '../space.csv',\n",
    "  delimiter=';',\n",
    "  dtype='str',\n",
    "  encoding='utf-8'\n",
    ")\n",
    "\n",
    "print(dataset[:][0])"
   ]
  },
  {
   "cell_type": "code",
   "execution_count": 19,
   "metadata": {},
   "outputs": [
    {
     "name": "stdout",
     "output_type": "stream",
     "text": [
      "Porcentagem de missões bem sucedidas:  89.72935461485079\n"
     ]
    }
   ],
   "source": [
    "# Exericio 1\n",
    "# Apresente a porcentagem de missões que deram certo\n",
    "\n",
    "total_missions = int(dataset[-1, 0]) # pegando o ultimo indice dos numeros das missoes\n",
    "succeded_missions = np.sum(dataset[:, 7] == 'Success')\n",
    "print(\"Porcentagem de missões bem sucedidas: \", succeded_missions / total_missions * 100)"
   ]
  },
  {
   "cell_type": "code",
   "execution_count": 54,
   "metadata": {},
   "outputs": [
    {
     "name": "stdout",
     "output_type": "stream",
     "text": [
      "A média de gastos é de :  153.7921991701245\n"
     ]
    }
   ],
   "source": [
    "# Exercicio 2\n",
    "# Qual a media de gastos de uma missão espacial se baseando em missões que possueam valores disponíveis (> 0)?\n",
    "\n",
    "costs = dataset[1:, 6].astype(float)\n",
    "total_cost = (costs[costs > 0])\n",
    "print(\"A média de gastos é de : \", np.mean(total_cost))\n"
   ]
  },
  {
   "cell_type": "code",
   "execution_count": 68,
   "metadata": {},
   "outputs": [
    {
     "name": "stdout",
     "output_type": "stream",
     "text": [
      "O total de missões realizadas pelos Estados Unidos é:  1344\n"
     ]
    }
   ],
   "source": [
    "# Exercicio 3\n",
    "# Encontre quantas missões espaciais nesse dataset foram realizadas pelos EUA\n",
    "\n",
    "total_missions_by_USA = len(dataset[1:][np.char.find(dataset[1:, 2], 'USA') >= 0])\n",
    "print(\"O total de missões realizadas pelos Estados Unidos é: \", total_missions_by_USA)"
   ]
  },
  {
   "cell_type": "code",
   "execution_count": 21,
   "metadata": {},
   "outputs": [
    {
     "name": "stdout",
     "output_type": "stream",
     "text": [
      "A missão mais cara realizada pela empresa SpaceX teve o custo de:  90.0\n"
     ]
    }
   ],
   "source": [
    "# Exercicio 4\n",
    "# Encontre qual foi a missão mais cara realizada pela empresa \"SpaceX\"\n",
    "\n",
    "total_missions_by_spaceX = dataset[1:][np.char.find(dataset[1:, 1], 'SpaceX') >= 0]\n",
    "total_missions_costs_by_spaceX = total_missions_by_spaceX[:, 6].astype(float)\n",
    "print(\"A missão mais cara realizada pela empresa SpaceX teve o custo de: \", total_missions_costs_by_spaceX.max())"
   ]
  },
  {
   "cell_type": "code",
   "execution_count": 31,
   "metadata": {},
   "outputs": [
    {
     "name": "stdout",
     "output_type": "stream",
     "text": [
      "Nome da empresa : qnt de missões realizadas\n",
      "\n",
      "SpaceX: 100\n",
      "CASC: 251\n",
      "Roscosmos: 55\n",
      "ULA: 140\n",
      "JAXA: 7\n",
      "Northrop: 83\n",
      "ExPace: 10\n",
      "IAI: 11\n",
      "Rocket Lab: 13\n",
      "Virgin Orbit: 1\n",
      "VKS RF: 201\n",
      "MHI: 84\n",
      "IRGC: 1\n",
      "Arianespace: 279\n",
      "ISA: 13\n",
      "Blue Origin: 12\n",
      "ISRO: 76\n",
      "Exos: 4\n",
      "ILS: 46\n",
      "i-Space: 1\n",
      "OneSpace: 1\n",
      "Landspace: 1\n",
      "Eurockot: 13\n",
      "Land Launch: 7\n",
      "CASIC: 5\n",
      "KCST: 5\n",
      "Sandia: 1\n",
      "Kosmotras: 22\n",
      "Khrunichev: 1\n",
      "Sea Launch: 36\n",
      "KARI: 3\n",
      "ESA: 13\n",
      "NASA: 203\n",
      "Boeing: 136\n",
      "ISAS: 30\n",
      "SRC: 3\n",
      "MITT: 7\n",
      "Lockheed: 79\n",
      "AEB: 3\n",
      "Starsem: 1\n",
      "RVSN USSR: 1777\n",
      "EER: 1\n",
      "General Dynamics: 251\n",
      "Martin Marietta: 114\n",
      "Yuzhmash: 2\n",
      "Douglas: 1\n",
      "ASI: 9\n",
      "US Air Force: 161\n",
      "CNES: 8\n",
      "CECLES: 4\n",
      "RAE: 2\n",
      "UT: 5\n",
      "OKB-586: 2\n",
      "AMBA: 8\n",
      "Arm??e de l'Air: 4\n",
      "US Navy: 17\n"
     ]
    }
   ],
   "source": [
    "# Exercicio 5\n",
    "# Mostre o nome das empresas que já realizaram missões espaciais,\n",
    "# juntamente com suas respectivas quantidades de missões (use o for no final para mostrar as informações)\n",
    "\n",
    "dictionary = {} # a chave vai ser o nome da empresa e o valor armazenado vai ser a quantidade de missoes realizadas\n",
    "\n",
    "companies = dataset[1:, 1]\n",
    "\n",
    "for company in companies:\n",
    "    if company not in dictionary:\n",
    "        dictionary[company] = 0\n",
    "    dictionary[company] += 1\n",
    "\n",
    "print(\"Nome da empresa : qnt de missões realizadas\\n\")\n",
    "for company, missions in dictionary.items():\n",
    "    print(f\"{company}: {missions}\")"
   ]
  }
 ],
 "metadata": {
  "kernelspec": {
   "display_name": "venv",
   "language": "python",
   "name": "python3"
  },
  "language_info": {
   "codemirror_mode": {
    "name": "ipython",
    "version": 3
   },
   "file_extension": ".py",
   "mimetype": "text/x-python",
   "name": "python",
   "nbconvert_exporter": "python",
   "pygments_lexer": "ipython3",
   "version": "3.13.2"
  }
 },
 "nbformat": 4,
 "nbformat_minor": 2
}
