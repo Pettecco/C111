{
 "cells": [
  {
   "cell_type": "markdown",
   "metadata": {},
   "source": [
    "## Iniciando com NumPy"
   ]
  },
  {
   "cell_type": "code",
   "execution_count": 1,
   "metadata": {},
   "outputs": [
    {
     "name": "stdout",
     "output_type": "stream",
     "text": [
      "[1 2 3]\n",
      "[[1 2 3]\n",
      " [4 5 6]\n",
      " [7 8 9]]\n"
     ]
    }
   ],
   "source": [
    "import numpy as np\n",
    "\n",
    "# Array unidimensional\n",
    "arr = np.array([1, 2, 3])\n",
    "\n",
    "# Array bidimensional\n",
    "mtz = np.array([[1, 2, 3], [4, 5, 6], [7, 8, 9]])\n",
    "print(arr)\n",
    "print(mtz)"
   ]
  },
  {
   "cell_type": "markdown",
   "metadata": {},
   "source": [
    "### Sobre o NumPy Array\n",
    "\n",
    "O ndarray (NumPy Array) é a estrutura de dados fundamental do NumPy\n",
    "\n",
    "O NumPy Array guarda apenas elementos do mesmo tipo:\n",
    "  * Isso fornece maior desempenho nas operações \n",
    "  * Menor uso de memória\n",
    "\n"
   ]
  },
  {
   "cell_type": "markdown",
   "metadata": {},
   "source": [
    "## Criando NumPy Arrays com mais facilidade"
   ]
  },
  {
   "cell_type": "code",
   "execution_count": 12,
   "metadata": {},
   "outputs": [
    {
     "name": "stdout",
     "output_type": "stream",
     "text": [
      "[[1. 1. 1. 1. 1.]\n",
      " [1. 1. 1. 1. 1.]\n",
      " [1. 1. 1. 1. 1.]\n",
      " [1. 1. 1. 1. 1.]\n",
      " [1. 1. 1. 1. 1.]]\n",
      "[0. 0. 0. 0. 0. 0. 0. 0. 0. 0.]\n",
      "[0 1 2 3 4 5 6 7 8 9]\n",
      "[10 12 14 16 18 20 22 24 26 28 30]\n"
     ]
    }
   ],
   "source": [
    "# Estruturando rapidamente uma matriz de 1's\n",
    "mtz = np.ones([5, 5])\n",
    "print(mtz)\n",
    "\n",
    "# Estruturando um array de 0's\n",
    "arr = np.zeros([10])\n",
    "print(arr)\n",
    "\n",
    "# Arange\n",
    "mtz = np.arange(10)\n",
    "print(mtz)\n",
    "\n",
    "arr = np.arange(10, 31, 2)\n",
    "print(arr)\n"
   ]
  },
  {
   "cell_type": "markdown",
   "metadata": {},
   "source": [
    "## Operações básicas com Array"
   ]
  },
  {
   "cell_type": "code",
   "execution_count": 20,
   "metadata": {},
   "outputs": [
    {
     "name": "stdout",
     "output_type": "stream",
     "text": [
      "1 4\n",
      "0 3\n",
      "2.5\n",
      "10\n",
      "[2 4 6 8]\n",
      "[ 5 12 21 32]\n",
      "[1 2 3 4 5 6 7 8]\n"
     ]
    }
   ],
   "source": [
    "arr1 = np.array([1, 2, 3, 4])\n",
    "arr2 = np.array([5, 6, 7, 8])\n",
    "\n",
    "print(arr1.min(), arr1.max())\n",
    "print(arr1.argmin(), arr1.argmax()) # index\n",
    "\n",
    "print(arr1.mean()) # media\n",
    "print(arr1.sum())\n",
    "\n",
    "\n",
    "arr3 = arr1 + arr1\n",
    "print(arr3)\n",
    "arr3 = arr1 * arr2\n",
    "print(arr3)\n",
    "\n",
    "print(np.concatenate([arr1, arr2]))"
   ]
  },
  {
   "cell_type": "markdown",
   "metadata": {},
   "source": [
    "## Reshape de Numpy Arrays"
   ]
  },
  {
   "cell_type": "code",
   "execution_count": 26,
   "metadata": {},
   "outputs": [
    {
     "name": "stdout",
     "output_type": "stream",
     "text": [
      "[[0 1 2]\n",
      " [3 4 5]\n",
      " [6 7 8]]\n",
      "9 (3, 3) 2\n",
      "9\n",
      "21\n"
     ]
    }
   ],
   "source": [
    "mtz = np.arange(9).reshape(3, 3)\n",
    "print(mtz)\n",
    "\n",
    "# Propriedades da matriz\n",
    "print(mtz.size, mtz.shape, mtz.ndim)\n",
    "\n",
    "# Operações nas linhas e colunas da matriz\n",
    "print(mtz.sum(axis=0)[0]) # colunas\n",
    "print(mtz.sum(axis=1)) #linhas"
   ]
  },
  {
   "cell_type": "markdown",
   "metadata": {},
   "source": [
    "## Broadcasting"
   ]
  },
  {
   "cell_type": "code",
   "execution_count": 28,
   "metadata": {},
   "outputs": [
    {
     "name": "stdout",
     "output_type": "stream",
     "text": [
      "[[0.  0.5 1. ]\n",
      " [1.5 2.  2.5]\n",
      " [3.  3.5 4. ]]\n",
      "[[0.  1.2 2.4]\n",
      " [3.6 4.8 6. ]\n",
      " [7.2 8.4 9.6]]\n"
     ]
    }
   ],
   "source": [
    "print(mtz/2)\n",
    "print(mtz + mtz*0.2) # aumento de 20% em cada celula da matriz"
   ]
  },
  {
   "cell_type": "markdown",
   "metadata": {},
   "source": [
    "## Elementos Aleatórios e únicos com arrays"
   ]
  },
  {
   "cell_type": "code",
   "execution_count": 35,
   "metadata": {},
   "outputs": [
    {
     "name": "stdout",
     "output_type": "stream",
     "text": [
      "[[29 49 24 35 20]\n",
      " [37 47 48 45 49]\n",
      " [36 49 37 46 28]\n",
      " [29 20 30 28 42]\n",
      " [24 39 36 24 35]]\n",
      "(array([20, 24, 28, 29, 30, 35, 36, 37, 39, 42, 45, 46, 47, 48, 49]), array([2, 3, 2, 2, 1, 2, 2, 2, 1, 1, 1, 1, 1, 1, 3]))\n"
     ]
    }
   ],
   "source": [
    "# Gerando 10 números aleatórios\n",
    "np.random.seed(10)\n",
    "mtz = np.random.randint(20, 50, [5, 5])\n",
    "print(mtz)\n",
    "\n",
    "# Extraindo elementos unicos com unique\n",
    "print(np.unique(mtz, return_counts=True))"
   ]
  },
  {
   "cell_type": "markdown",
   "metadata": {},
   "source": [
    "## Sliceing de Numpy Arrays (BIDIMENSIONAIS)"
   ]
  },
  {
   "cell_type": "code",
   "execution_count": null,
   "metadata": {},
   "outputs": [
    {
     "name": "stdout",
     "output_type": "stream",
     "text": [
      "[2 5 8]\n",
      "[[2 3]\n",
      " [5 6]\n",
      " [8 9]]\n",
      "[[4 5 6]\n",
      " [7 8 9]]\n"
     ]
    }
   ],
   "source": [
    "mtz = np.arange(1, 10, 1).reshape(3, 3)\n",
    "print(mtz)\n",
    "\n",
    "# Slicing em uma unica linha\n",
    "print(mtz[2])\n",
    "\n",
    "# Slicing de multiplas linhas\n",
    "print(mtz[1:])\n",
    "\n",
    "# Slicing de uma coluna\n",
    "print(mtz[:, 1])\n",
    "\n",
    "# Slicing de multiplas colunas\n",
    "print(mtz[:, 1:]) "
   ]
  },
  {
   "cell_type": "markdown",
   "metadata": {},
   "source": [
    "## Condicionais"
   ]
  },
  {
   "cell_type": "code",
   "execution_count": 31,
   "metadata": {},
   "outputs": [
    {
     "name": "stdout",
     "output_type": "stream",
     "text": [
      "[[False False False]\n",
      " [False False  True]\n",
      " [ True  True  True]]\n",
      "[6 7 8 9]\n",
      "[2 4 6 8]\n"
     ]
    }
   ],
   "source": [
    "print(mtz > 5) # Mask de true ou false\n",
    "\n",
    "print(mtz[mtz > 5])\n",
    "\n",
    "print(mtz[mtz%2 == 0])"
   ]
  },
  {
   "cell_type": "markdown",
   "metadata": {},
   "source": [
    "## Trabalhando com Padrões Textuais\n",
    "\n",
    "  * O subpacote **numpy.char** fornece um conjunto de operações para serem realizadas em elementos do tipo texto"
   ]
  },
  {
   "cell_type": "code",
   "execution_count": null,
   "metadata": {},
   "outputs": [
    {
     "name": "stdout",
     "output_type": "stream",
     "text": [
      "['Goku' 'Gohan' 'Goten']\n",
      "[-1  3  4  5 -1 -1]\n",
      "['Gohan' 'Bulma' 'Vegeta']\n",
      "['Goku' 'Gohan' 'Goten']\n",
      "['GOKU' 'GOHAN' 'BULMA' 'VEGETA' 'GOTEN' 'ANDROIDE 18'] ['goku' 'gohan' 'bulma' 'vegeta' 'goten' 'androide 18']\n",
      "['Androide 18']\n"
     ]
    }
   ],
   "source": [
    "arr = np.array(['Goku', 'Gohan', 'Bulma', 'Vegeta', 'Goten', 'Androide 18'])\n",
    "\n",
    "print(arr[np.char.find(arr, 'Go') >= 0])\n",
    "print(np.char.find(arr, 'a')) # index\n",
    "print(arr[np.char.find(arr, 'a') != -1])\n",
    "\n",
    "print(arr[np.char.startswith(arr, 'Go')])\n",
    "print(np.char.upper(arr), np.char.lower(arr))\n",
    "print(arr[~(np.char.isalpha(arr))]) # Os que nao sao alpha (~ é inversão)"
   ]
  },
  {
   "cell_type": "markdown",
   "metadata": {},
   "source": [
    "## Salvando e carregando dados com NumPy"
   ]
  },
  {
   "cell_type": "code",
   "execution_count": 51,
   "metadata": {},
   "outputs": [
    {
     "name": "stdout",
     "output_type": "stream",
     "text": [
      "['0' 'SpaceX' 'LC-39A Kennedy Space Center Florida USA'\n",
      " 'Fri Aug 07 2020 05:12 UTC'\n",
      " 'Falcon 9 Block 5 | Starlink V1 L9 & BlackSky' 'StatusActive' '50.0 '\n",
      " 'Success']\n"
     ]
    }
   ],
   "source": [
    "dataset = np.loadtxt(\n",
    "  './space.csv',\n",
    "  delimiter=';',\n",
    "  dtype='str',\n",
    "  encoding='utf-8'\n",
    ")\n",
    "\n",
    "print(dataset[1, :])"
   ]
  }
 ],
 "metadata": {
  "kernelspec": {
   "display_name": "venv",
   "language": "python",
   "name": "python3"
  },
  "language_info": {
   "codemirror_mode": {
    "name": "ipython",
    "version": 3
   },
   "file_extension": ".py",
   "mimetype": "text/x-python",
   "name": "python",
   "nbconvert_exporter": "python",
   "pygments_lexer": "ipython3",
   "version": "3.13.2"
  }
 },
 "nbformat": 4,
 "nbformat_minor": 2
}
