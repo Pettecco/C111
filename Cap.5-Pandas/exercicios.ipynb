{
 "cells": [
  {
   "cell_type": "code",
   "execution_count": 1,
   "metadata": {},
   "outputs": [],
   "source": [
    "import numpy as np\n",
    "import pandas as pd"
   ]
  },
  {
   "cell_type": "code",
   "execution_count": 2,
   "metadata": {},
   "outputs": [],
   "source": [
    "# Questão 1\n",
    "\n",
    "seriesAno1 = pd.Series({'Java': 16.25, 'C': 16.04, 'Python': 9.85})\n",
    "seriesAno2 = pd.Series({'C': 16.21, 'Python': 12.12, 'Java': 11.68})"
   ]
  },
  {
   "cell_type": "code",
   "execution_count": 5,
   "metadata": {},
   "outputs": [
    {
     "name": "stdout",
     "output_type": "stream",
     "text": [
      "A porgentagem total que as linguaguens representaram no ano 1 foi de 42.14 %\n",
      "A porgentagem total que as linguaguens representaram no ano 2 foi de 40.01 %\n"
     ]
    }
   ],
   "source": [
    "# Questão 2\n",
    "\n",
    "print(\"A porgentagem total que as linguaguens representaram no ano 1 foi de\", seriesAno1.sum(), \"%\")\n",
    "print(\"A porgentagem total que as linguaguens representaram no ano 2 foi de\", seriesAno2.sum(), \"%\")"
   ]
  },
  {
   "cell_type": "code",
   "execution_count": 6,
   "metadata": {},
   "outputs": [
    {
     "name": "stdout",
     "output_type": "stream",
     "text": [
      "Cada linguagem cresce/diminuiu do ano 1 para o ano 2 de:\n",
      "C        -0.17\n",
      "Java      4.57\n",
      "Python   -2.27\n",
      "dtype: float64\n"
     ]
    }
   ],
   "source": [
    "# Questão 3\n",
    "\n",
    "print(\"Cada linguagem cresce/diminuiu do ano 1 para o ano 2 de:\")\n",
    "crescimento = seriesAno1 - seriesAno2\n",
    "print(crescimento)\n"
   ]
  },
  {
   "cell_type": "code",
   "execution_count": 7,
   "metadata": {},
   "outputs": [
    {
     "name": "stdout",
     "output_type": "stream",
     "text": [
      "Java    4.57\n",
      "dtype: float64\n"
     ]
    }
   ],
   "source": [
    "# Questão 4\n",
    "\n",
    "print(crescimento[crescimento > 0])"
   ]
  },
  {
   "cell_type": "code",
   "execution_count": 8,
   "metadata": {},
   "outputs": [
    {
     "name": "stdout",
     "output_type": "stream",
     "text": [
      "Java    9.14\n",
      "dtype: float64\n"
     ]
    }
   ],
   "source": [
    "# Questão 5\n",
    "\n",
    "crescimento = crescimento * 2\n",
    "print(crescimento.nlargest(1))\n"
   ]
  },
  {
   "cell_type": "code",
   "execution_count": 9,
   "metadata": {},
   "outputs": [
    {
     "name": "stdout",
     "output_type": "stream",
     "text": [
      "14.5\n"
     ]
    }
   ],
   "source": [
    "# Questão 6\n",
    "\n",
    "df = pd.DataFrame(\n",
    "  index=['A', 'B', 'C', 'D', 'E'],\n",
    "  columns=['W', 'X', 'Y', 'Z'],\n",
    "  data=np.random.randint(1, 50, [5, 4])\n",
    ")\n",
    "\n",
    "print(df.iloc[1, :][df.iloc[1, :] < 30].mean())"
   ]
  },
  {
   "cell_type": "code",
   "execution_count": null,
   "metadata": {},
   "outputs": [
    {
     "name": "stdout",
     "output_type": "stream",
     "text": [
      "Média dos elementos da linha D: 34.25\n",
      "Soma dos elementos da linha E: 134\n"
     ]
    }
   ],
   "source": [
    "# Questão 7\n",
    "\n",
    "media_linha_D = df.loc['D'].mean()\n",
    "print(\"Média dos elementos da linha D:\", media_linha_D)\n",
    "\n",
    "soma_linha_E = df.iloc[4].sum() \n",
    "print(\"Soma dos elementos da linha E:\", soma_linha_E)\n"
   ]
  },
  {
   "cell_type": "code",
   "execution_count": null,
   "metadata": {},
   "outputs": [
    {
     "name": "stdout",
     "output_type": "stream",
     "text": [
      "    X   Y\n",
      "A  19  16\n",
      "C  34   3\n",
      "E  25  32\n",
      "Soma dos elementos de cada linha: A    35\n",
      "C    37\n",
      "E    57\n",
      "dtype: int64\n",
      "Soma dos elementos de cada coluna: X    78\n",
      "Y    51\n",
      "dtype: int64\n"
     ]
    }
   ],
   "source": [
    "# Questão 8\n",
    "\n",
    "sliced = df.loc[['A', 'C', 'E'], ['X', 'Y']]\n",
    "print(sliced)\n",
    "\n",
    "print(\"Soma dos elementos de cada linha:\", sliced.sum(axis=1))\n",
    "\n",
    "print(\"Soma dos elementos de cada coluna:\", sliced.sum(axis=0))\n"
   ]
  }
 ],
 "metadata": {
  "kernelspec": {
   "display_name": "venv",
   "language": "python",
   "name": "python3"
  },
  "language_info": {
   "codemirror_mode": {
    "name": "ipython",
    "version": 3
   },
   "file_extension": ".py",
   "mimetype": "text/x-python",
   "name": "python",
   "nbconvert_exporter": "python",
   "pygments_lexer": "ipython3",
   "version": "3.13.2"
  }
 },
 "nbformat": 4,
 "nbformat_minor": 2
}
