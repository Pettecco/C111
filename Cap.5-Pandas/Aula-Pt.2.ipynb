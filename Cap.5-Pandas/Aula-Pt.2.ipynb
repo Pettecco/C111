{
 "cells": [
  {
   "cell_type": "code",
   "execution_count": 2,
   "metadata": {},
   "outputs": [],
   "source": [
    "import numpy as np\n",
    "import pandas as pd"
   ]
  },
  {
   "cell_type": "code",
   "execution_count": 3,
   "metadata": {},
   "outputs": [
    {
     "name": "stdout",
     "output_type": "stream",
     "text": [
      "Index(['Country', 'Region', 'Population', 'Area (sq. mi.)',\n",
      "       'Pop. Density (per sq. mi.)', 'Coastline (coast/area ratio)',\n",
      "       'Net migration', 'Infant mortality (per 1000 births)',\n",
      "       'GDP ($ per capita)', 'Literacy (%)', 'Phones (per 1000)', 'Arable (%)',\n",
      "       'Crops (%)', 'Other (%)', 'Climate', 'Birthrate', 'Deathrate',\n",
      "       'Agriculture', 'Industry', 'Service'],\n",
      "      dtype='object')\n",
      "        Country                               Region  Population  \\\n",
      "0  Afghanistan         ASIA (EX. NEAR EAST)             31056997   \n",
      "1      Albania   EASTERN EUROPE                          3581655   \n",
      "2      Algeria   NORTHERN AFRICA                        32930091   \n",
      "\n",
      "   Area (sq. mi.)  Pop. Density (per sq. mi.)  Coastline (coast/area ratio)  \\\n",
      "0          647500                        48.0                          0.00   \n",
      "1           28748                       124.6                          1.26   \n",
      "2         2381740                        13.8                          0.04   \n",
      "\n",
      "   Net migration  Infant mortality (per 1000 births)  GDP ($ per capita)  \\\n",
      "0          23.06                              163.07                 700   \n",
      "1          -4.93                               21.52                4500   \n",
      "2          -0.39                               31.00                6000   \n",
      "\n",
      "   Literacy (%)  Phones (per 1000)  Arable (%)  Crops (%)  Other (%)  Climate  \\\n",
      "0          36.0                3.2       12.13       0.22      87.65      1.0   \n",
      "1          86.5               71.2       21.09       4.42      74.49      3.0   \n",
      "2          70.0               78.1        3.22       0.25      96.53      1.0   \n",
      "\n",
      "   Birthrate  Deathrate  Agriculture  Industry  Service  \n",
      "0      46.60      20.34        0.380     0.240    0.380  \n",
      "1      15.11       5.22        0.232     0.188    0.579  \n",
      "2      17.14       4.61        0.101     0.600    0.298  \n",
      "       Country                               Region  Population  \\\n",
      "224     Yemen   NEAR EAST                              21456188   \n",
      "225    Zambia   SUB-SAHARAN AFRICA                     11502010   \n",
      "226  Zimbabwe   SUB-SAHARAN AFRICA                     12236805   \n",
      "\n",
      "     Area (sq. mi.)  Pop. Density (per sq. mi.)  Coastline (coast/area ratio)  \\\n",
      "224          527970                        40.6                          0.36   \n",
      "225          752614                        15.3                          0.00   \n",
      "226          390580                        31.3                          0.00   \n",
      "\n",
      "     Net migration  Infant mortality (per 1000 births)  GDP ($ per capita)  \\\n",
      "224            0.0                               61.50                 800   \n",
      "225            0.0                               88.29                 800   \n",
      "226            0.0                               67.69                1900   \n",
      "\n",
      "     Literacy (%)  Phones (per 1000)  Arable (%)  Crops (%)  Other (%)  \\\n",
      "224          50.2               37.2        2.78       0.24      96.98   \n",
      "225          80.6                8.2        7.08       0.03      92.90   \n",
      "226          90.7               26.8        8.32       0.34      91.34   \n",
      "\n",
      "     Climate  Birthrate  Deathrate  Agriculture  Industry  Service  \n",
      "224      1.0      42.89       8.30        0.135     0.472    0.393  \n",
      "225      2.0      41.00      19.93        0.220     0.290    0.489  \n",
      "226      2.0      28.01      21.84        0.179     0.243    0.579  \n"
     ]
    }
   ],
   "source": [
    "# IMPORT DE DADOS NO PANDAS\n",
    "\n",
    "df = pd.read_csv(\"./paises.csv\", delimiter=\";\")\n",
    "\n",
    "print(df.columns)\n",
    "\n",
    "print(df.head(3))\n",
    "print(df.tail(3))\n"
   ]
  },
  {
   "cell_type": "code",
   "execution_count": 4,
   "metadata": {},
   "outputs": [
    {
     "name": "stdout",
     "output_type": "stream",
     "text": [
      "6524044551\n",
      "0      0.476039\n",
      "1      0.054899\n",
      "2      0.504750\n",
      "3      0.000886\n",
      "4      0.001091\n",
      "         ...   \n",
      "222    0.037714\n",
      "223    0.004185\n",
      "224    0.328879\n",
      "225    0.176302\n",
      "226    0.187565\n",
      "Name: Population, Length: 227, dtype: float64\n"
     ]
    }
   ],
   "source": [
    "# SALVANDO DADOS COM PANDAS\n",
    "\n",
    "# Calcular a porcentagem da população de cada país  no planeta\n",
    "\n",
    "total_population = np.sum(df['Population'])\n",
    "print(total_population)\n",
    "\n",
    "# Calculando a porcentagem de cada país\n",
    "\n",
    "seriesPercPopulation = (df[\"Population\"] / total_population) * 100\n",
    "\n",
    "print(seriesPercPopulation)\n",
    "\n",
    "df[\"% Population\"] = np.round(seriesPercPopulation, 3)\n",
    "\n",
    "# Gerando um novo arquivo com a coluna nova\n",
    "df.to_csv('paises2.csv', sep=';')"
   ]
  },
  {
   "cell_type": "code",
   "execution_count": 15,
   "metadata": {},
   "outputs": [
    {
     "name": "stdout",
     "output_type": "stream",
     "text": [
      "Region\n",
      "ASIA (EX. NEAR EAST)                   28\n",
      "BALTICS                                 3\n",
      "C.W. OF IND. STATES                    12\n",
      "EASTERN EUROPE                         12\n",
      "LATIN AMER. & CARIB                    45\n",
      "NEAR EAST                              16\n",
      "NORTHERN AFRICA                         6\n",
      "NORTHERN AMERICA                        5\n",
      "OCEANIA                                21\n",
      "SUB-SAHARAN AFRICA                     51\n",
      "WESTERN EUROPE                         28\n",
      "Name: Country, dtype: int64\n",
      "Region\n",
      "ASIA (EX. NEAR EAST)                   3687982236\n",
      "BALTICS                                   7184974\n",
      "C.W. OF IND. STATES                     280081548\n",
      "EASTERN EUROPE                          119914717\n",
      "LATIN AMER. & CARIB                     561824599\n",
      "NEAR EAST                               195068377\n",
      "NORTHERN AFRICA                         161407133\n",
      "NORTHERN AMERICA                        331672307\n",
      "OCEANIA                                  33131662\n",
      "SUB-SAHARAN AFRICA                      749437000\n",
      "WESTERN EUROPE                          396339998\n",
      "Name: Population, dtype: int64\n"
     ]
    }
   ],
   "source": [
    "# AGRUPAMENTO DE DADOS\n",
    "\n",
    "group_region = df.groupby('Region')\n",
    "print(group_region.count()['Country'])\n",
    "print(group_region.sum()['Population'])"
   ]
  },
  {
   "cell_type": "code",
   "execution_count": 14,
   "metadata": {},
   "outputs": [
    {
     "name": "stdout",
     "output_type": "stream",
     "text": [
      "     Deathrate  Deathrate\n",
      "0        20.34     18.306\n",
      "1         5.22      4.698\n",
      "2         4.61      4.149\n",
      "3         3.27      2.943\n",
      "4         6.25      5.625\n",
      "..         ...        ...\n",
      "222       3.92      3.528\n",
      "223       0.00      0.000\n",
      "224       8.30      7.470\n",
      "225      19.93     17.937\n",
      "226      21.84     19.656\n",
      "\n",
      "[227 rows x 2 columns]\n"
     ]
    }
   ],
   "source": [
    "# CRIANDO E APLICANDO MÉTODOS CUSTOMIZADOS NO PANDAS\n",
    "\n",
    "def tenpercent(x):\n",
    "  return x*0.9\n",
    "\n",
    "taxa_mortalidade = df['Deathrate']\n",
    "\n",
    "taxa_mortalidade2 = df['Deathrate'].apply(tenpercent)\n",
    "\n",
    "# Juntando duas Series\n",
    "print(pd.concat([taxa_mortalidade, taxa_mortalidade2], axis=1))"
   ]
  }
 ],
 "metadata": {
  "kernelspec": {
   "display_name": "venv",
   "language": "python",
   "name": "python3"
  },
  "language_info": {
   "codemirror_mode": {
    "name": "ipython",
    "version": 3
   },
   "file_extension": ".py",
   "mimetype": "text/x-python",
   "name": "python",
   "nbconvert_exporter": "python",
   "pygments_lexer": "ipython3",
   "version": "3.13.2"
  }
 },
 "nbformat": 4,
 "nbformat_minor": 2
}
